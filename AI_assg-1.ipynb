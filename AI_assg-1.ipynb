{
 "cells": [
  {
   "cell_type": "code",
   "execution_count": 1,
   "metadata": {},
   "outputs": [],
   "source": [
    "import queue as q\n",
    "import copy as cp\n",
    "from queue import PriorityQueue"
   ]
  },
  {
   "cell_type": "code",
   "execution_count": null,
   "metadata": {},
   "outputs": [],
   "source": []
  },
  {
   "cell_type": "code",
   "execution_count": 2,
   "metadata": {},
   "outputs": [],
   "source": [
    "#this is essentially the setting up of the board:{remember, the rules for where the numbers can be moved is not \n",
    "#given, it is in the descretion of the user enter the numbers right and do the right actions}\n",
    "\n",
    "class Puzzle8:\n",
    "    \n",
    "    node_num = 1\n",
    "    max_fringe_len = 1\n",
    "    explored = []\n",
    "\n",
    "        \n",
    "    def __eq__(self,other):\n",
    "        a1 = (self.number_pos[1] == other.number_pos[1])\n",
    "        a2 = (self.number_pos[2] == other.number_pos[2])\n",
    "        a3 = (self.number_pos[3] == other.number_pos[3])\n",
    "        a4 = (self.number_pos[4] == other.number_pos[4])\n",
    "        a5 = (self.number_pos[5] == other.number_pos[5])\n",
    "        a6 = (self.number_pos[6] == other.number_pos[6])\n",
    "        a7 = (self.number_pos[7] == other.number_pos[7])\n",
    "        a8 = (self.number_pos[8] == other.number_pos[8])\n",
    "        a9 = (self.number_pos[9] == other.number_pos[9])\n",
    "        return (a1 and a2 and a3 and a4 and a5 and a6 and a7 and a8 and a9)\n",
    "    \n",
    "    def __lt__(self, other):\n",
    "        return False\n",
    "    \n",
    "\n",
    "    \n",
    "    def possible_moves(self):        \n",
    "        for i in range(1,10):\n",
    "          if(self.number_pos[i] == 'emt'):\n",
    "            emt_pos = i\n",
    "            break\n",
    "\n",
    "        if(emt_pos == 1):\n",
    "            return ['l','u']\n",
    "        if(emt_pos == 2):\n",
    "            return ['r','l','u']\n",
    "        if(emt_pos == 3):\n",
    "            return ['r','u']\n",
    "        if(emt_pos == 4):\n",
    "            return ['l','u','d']\n",
    "        if(emt_pos == 5):\n",
    "            return ['r','l','u','d']\n",
    "        if(emt_pos == 6):\n",
    "            return ['r','u','d']\n",
    "        if(emt_pos == 7):\n",
    "            return ['l','d']\n",
    "        if(emt_pos == 8):\n",
    "            return ['r','l','d']\n",
    "        if(emt_pos == 9):\n",
    "            return ['r','d']\n",
    "    \n",
    "    def mov_left(self):\n",
    "        for i in range(1,10):\n",
    "          if(self.number_pos[i] == 'emt'):\n",
    "            emt_pos = i\n",
    "        self.number_pos[emt_pos] = self.number_pos[emt_pos+1]\n",
    "        self.number_pos[emt_pos+1] = 'emt'\n",
    "        \n",
    "    def mov_right(self):\n",
    "        for i in range(1,10):\n",
    "          if(self.number_pos[i] == 'emt'):\n",
    "            emt_pos = i\n",
    "        self.number_pos[emt_pos] = self.number_pos[emt_pos-1]\n",
    "        self.number_pos[emt_pos-1] = 'emt'\n",
    "    \n",
    "    def mov_up(self):\n",
    "        for i in range(1,10):\n",
    "          if(self.number_pos[i] == 'emt'):\n",
    "            emt_pos = i\n",
    "        self.number_pos[emt_pos] = self.number_pos[emt_pos+3]\n",
    "        self.number_pos[emt_pos+3] = 'emt'\n",
    "    \n",
    "    def mov_down(self):\n",
    "        for i in range(1,10):\n",
    "          if(self.number_pos[i] == 'emt'):\n",
    "            emt_pos = i\n",
    "        self.number_pos[emt_pos] = self.number_pos[emt_pos-3]\n",
    "        self.number_pos[emt_pos-3] = 'emt'\n",
    "        \n",
    "    def show_board(self):\n",
    "        print(self.number_pos[1],self.number_pos[2],self.number_pos[3])\n",
    "        print(self.number_pos[4],self.number_pos[5],self.number_pos[6])\n",
    "        print(self.number_pos[7],self.number_pos[8],self.number_pos[9])\n",
    "    \n",
    "    def get_board(self):\n",
    "        res = self.number_pos.copy()\n",
    "        return res\n",
    "    \n",
    "    def exist(self):\n",
    "        return self.number_pos in Puzzle8.explored\n",
    "    \n",
    "    #number of misplaced tiles(mismatch count)\n",
    "    def heur1(self):\n",
    "        h1 = -1\n",
    "        for i in range(1,10):\n",
    "            if(self.number_pos[i] != i):\n",
    "                h1 += 1\n",
    "        return h1\n",
    "    \n",
    "    def heur2(self):\n",
    "        h2 = 0\n",
    "        for i in range(1,10):\n",
    "            #print(i)\n",
    "            if(self.number_pos[i] != 'emt'):\n",
    "                k = i%3\n",
    "                if(k == 0):\n",
    "                    num_pos_h = 3\n",
    "                    num_pos_v = int(i/3)\n",
    "                else:\n",
    "                    num_pos_h = k\n",
    "                    num_pos_v = int(i/3) + 1\n",
    "                \n",
    "                p = self.number_pos[i]%3\n",
    "                if(p == 0):\n",
    "                    a_num_pos_h = 3\n",
    "                    a_num_pos_v = int(self.number_pos[i]/3)\n",
    "                else:\n",
    "                    a_num_pos_h = p\n",
    "                    a_num_pos_v = int(self.number_pos[i]/3) + 1\n",
    "                man_dist = abs(num_pos_h-a_num_pos_h) + abs(num_pos_v-a_num_pos_v)\n",
    "                h2 += man_dist\n",
    "                #print(man_dist)\n",
    "\n",
    "                \n",
    "        return h2\n",
    "    \n",
    "    def goal_test(self):\n",
    "        for i in range(1,9):\n",
    "            if(self.number_pos[i] != i):\n",
    "                return False\n",
    "        return True"
   ]
  },
  {
   "cell_type": "code",
   "execution_count": 3,
   "metadata": {},
   "outputs": [
    {
     "name": "stdout",
     "output_type": "stream",
     "text": [
      "True\n"
     ]
    }
   ],
   "source": [
    "m = {\n",
    "    1 : 1,\n",
    "    2 : 8,\n",
    "    3 : 2,\n",
    "    4 : 'emt',\n",
    "    5 : 4,\n",
    "    6 : 3,\n",
    "    7 : 7,\n",
    "    8 : 6,\n",
    "    9 : 5\n",
    "}\n",
    "k = {\n",
    "    1 : 7,\n",
    "    2 : 1,\n",
    "    3 : 5,\n",
    "    4 : 3,\n",
    "    5 : 8,\n",
    "    6 : 4,\n",
    "    7 : 2,\n",
    "    8 : 'emt',\n",
    "    9 : 6\n",
    "}\n",
    "l = {\n",
    "    1 : 7,\n",
    "    2 : 1,\n",
    "    3 : 5,\n",
    "    4 : 3,\n",
    "    5 : 8,\n",
    "    6 : 4,\n",
    "    7 : 2,\n",
    "    8 : 'emt',\n",
    "    9 : 6\n",
    "}\n",
    "print(k==l)"
   ]
  },
  {
   "cell_type": "code",
   "execution_count": 17,
   "metadata": {},
   "outputs": [],
   "source": [
    "def expand(S):\n",
    "    pos_moves = S.possible_moves()\n",
    "    children_nodes = []\n",
    " \n",
    "    for i in range(pos_moves.__len__()):\n",
    "        if pos_moves[i] == 'r':\n",
    "            child = Puzzle8()\n",
    "            child.number_pos = S.get_board()\n",
    "            child.depth = S.depth + 1\n",
    "            child.parent = S\n",
    "            child.mov_right()\n",
    "            if not(child.exist()):\n",
    "                Puzzle8.node_num += 1\n",
    "                Puzzle8.explored.append(child.get_board())\n",
    "                children_nodes.append(child)\n",
    "        elif pos_moves[i] == 'l':\n",
    "            child = Puzzle8()\n",
    "            child.number_pos = S.get_board()\n",
    "            child.depth = S.depth + 1\n",
    "            child.parent = S\n",
    "            child.mov_left()\n",
    "            if not(child.exist()):\n",
    "                Puzzle8.node_num += 1\n",
    "                Puzzle8.explored.append(child.get_board())\n",
    "                children_nodes.append(child)\n",
    "        elif pos_moves[i] == 'u':\n",
    "            child = Puzzle8()\n",
    "            child.number_pos = S.get_board()\n",
    "            child.depth = S.depth + 1\n",
    "            child.parent = S\n",
    "            child.mov_up()\n",
    "            if not(child.exist()):\n",
    "                Puzzle8.node_num += 1\n",
    "                Puzzle8.explored.append(child.get_board())\n",
    "                children_nodes.append(child)\n",
    "        else:\n",
    "            child = Puzzle8()\n",
    "            child.number_pos = S.get_board()\n",
    "            child.depth = S.depth + 1\n",
    "            child.parent = S\n",
    "            child.mov_down()\n",
    "            if not(child.exist()):\n",
    "                Puzzle8.node_num += 1\n",
    "                Puzzle8.explored.append(child.get_board())\n",
    "                children_nodes.append(child)\n",
    "    return children_nodes\n",
    "\n",
    "def make_fifo_queue(lis):\n",
    "    result = q.Queue()\n",
    "    for i in range(lis.__len__()):\n",
    "        result.put(lis[i])\n",
    "    \n",
    "    return result\n",
    "\n",
    "\n",
    "def mod_exp(S,depth):\n",
    "    temp3_1 = []\n",
    "    child_list = expand(S)\n",
    "    temp1 = make_fifo_queue(child_list)\n",
    "    temp2 = make_fifo_queue(child_list)\n",
    "    d = depth - 1\n",
    "    while d > 0:\n",
    "        while temp2.qsize() != 0:\n",
    "            C = temp2.get()\n",
    "            temp3_1 = expand(C)\n",
    "            temp3_2 = make_fifo_queue(temp3_1)\n",
    "            while temp3_2.qsize() !=0:\n",
    "                temp1.put(temp3_2.get())\n",
    "        d -= 1\n",
    "        temp2 = make_fifo_queue(temp3_1)\n",
    "    return temp1\n",
    "        \n",
    "\n",
    "\n",
    "def mod_A(initial_state,heur,depth=1):\n",
    "    root = Puzzle8()\n",
    "    root.number_pos = initial_state\n",
    "    root.depth = 0\n",
    "    root.parent = None\n",
    "    Puzzle8.explored.append(initial_state)\n",
    "    fringe = PriorityQueue()\n",
    "    S = root\n",
    "    f = 0\n",
    "    while not(S.goal_test()):\n",
    "        temp = mod_exp(S,depth)\n",
    "        while temp.qsize() != 0:\n",
    "            l = temp.get()\n",
    "            if heur == 1:\n",
    "                val = (l.heur1()+l.depth)\n",
    "                fringe.put((val,l))\n",
    "            else:\n",
    "                fringe.put(((l.heur2()+l.depth),l))\n",
    "                \n",
    "        Puzzle8.max_fringe_len = max(Puzzle8.max_fringe_len,fringe.qsize())\n",
    "        if(fringe.qsize() != 0):\n",
    "            S = fringe.get()[1]\n",
    "    return S\n",
    "        \n",
    "    "
   ]
  },
  {
   "cell_type": "code",
   "execution_count": null,
   "metadata": {},
   "outputs": [],
   "source": []
  },
  {
   "cell_type": "code",
   "execution_count": 30,
   "metadata": {},
   "outputs": [],
   "source": [
    "Puzzle8.node_num = 1\n",
    "Puzzle8.max_fringe_len = 1\n",
    "Puzzle8.explored = []\n",
    "k1 = mod_A(k,1,10)"
   ]
  },
  {
   "cell_type": "code",
   "execution_count": 31,
   "metadata": {},
   "outputs": [
    {
     "data": {
      "text/plain": [
       "19"
      ]
     },
     "execution_count": 31,
     "metadata": {},
     "output_type": "execute_result"
    }
   ],
   "source": [
    "k1.depth"
   ]
  },
  {
   "cell_type": "code",
   "execution_count": 32,
   "metadata": {},
   "outputs": [
    {
     "name": "stdout",
     "output_type": "stream",
     "text": [
      "11703\n"
     ]
    }
   ],
   "source": [
    "print(Puzzle8.node_num)\n",
    "Puzzle8.node_num = 1"
   ]
  },
  {
   "cell_type": "code",
   "execution_count": 43,
   "metadata": {},
   "outputs": [
    {
     "name": "stdout",
     "output_type": "stream",
     "text": [
      "362880\n"
     ]
    }
   ],
   "source": [
    "print(1*2*3*4*5*6*7*8*9)"
   ]
  },
  {
   "cell_type": "code",
   "execution_count": null,
   "metadata": {},
   "outputs": [],
   "source": []
  },
  {
   "cell_type": "code",
   "execution_count": 20,
   "metadata": {},
   "outputs": [
    {
     "data": {
      "text/plain": [
       "1"
      ]
     },
     "execution_count": 20,
     "metadata": {},
     "output_type": "execute_result"
    }
   ],
   "source": []
  },
  {
   "cell_type": "code",
   "execution_count": 3,
   "metadata": {},
   "outputs": [
    {
     "name": "stdout",
     "output_type": "stream",
     "text": [
      "aa\n",
      "['qedyyyyyyyyyyyyyyyyyyyyyyyyyyyyyyyyyyyyyyyyyyyyyyyy', 'w']\n"
     ]
    }
   ],
   "source": [
    "print(a.get())\n",
    "print(a.get())"
   ]
  },
  {
   "cell_type": "code",
   "execution_count": null,
   "metadata": {},
   "outputs": [],
   "source": []
  }
 ],
 "metadata": {
  "kernelspec": {
   "display_name": "Python 3",
   "language": "python",
   "name": "python3"
  },
  "language_info": {
   "codemirror_mode": {
    "name": "ipython",
    "version": 3
   },
   "file_extension": ".py",
   "mimetype": "text/x-python",
   "name": "python",
   "nbconvert_exporter": "python",
   "pygments_lexer": "ipython3",
   "version": "3.6.5"
  }
 },
 "nbformat": 4,
 "nbformat_minor": 2
}
